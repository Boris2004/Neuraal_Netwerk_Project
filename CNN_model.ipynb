{
 "cells": [
  {
   "cell_type": "markdown",
   "metadata": {},
   "source": [
    "#### Libraries importeren"
   ]
  },
  {
   "cell_type": "code",
   "execution_count": 1,
   "metadata": {},
   "outputs": [],
   "source": [
    "import torch\n",
    "import torch.nn as nn\n",
    "import torch.optim as optim\n",
    "import numpy as np\n",
    "from torch.utils.data import DataLoader\n",
    "from torchvision import datasets, transforms\n",
    "from PIL import Image\n",
    "import matplotlib.pyplot as plt"
   ]
  },
  {
   "cell_type": "markdown",
   "metadata": {},
   "source": [
    "#### Set seed"
   ]
  },
  {
   "cell_type": "code",
   "execution_count": 2,
   "metadata": {},
   "outputs": [
    {
     "data": {
      "text/plain": [
       "<torch._C.Generator at 0x1a3c85e51f0>"
      ]
     },
     "execution_count": 2,
     "metadata": {},
     "output_type": "execute_result"
    }
   ],
   "source": [
    "np.random.seed(42)\n",
    "torch.manual_seed(42)"
   ]
  },
  {
   "cell_type": "markdown",
   "metadata": {},
   "source": [
    "#### Dataset inladen en inzien\n",
    "Voordat ik de data volledig ga transformeren, wil ik eerst het gemiddelde en de standaardafwijking weten voor de normalisatie. Daarnaast wil ik ook weten wat de grote van de afbeelding is qua pixels en het kanaal (grijstinten of rgb)."
   ]
  },
  {
   "cell_type": "code",
   "execution_count": 3,
   "metadata": {},
   "outputs": [
    {
     "name": "stdout",
     "output_type": "stream",
     "text": [
      "Gemiddelde: 0.1307, Standaardafwijking: 0.3081\n"
     ]
    }
   ],
   "source": [
    "train_data = datasets.MNIST(root='./data', train=True, download=True, transform=transforms.ToTensor())\n",
    "test_data = datasets.MNIST(root='./data', train=False, download=True, transform=transforms.ToTensor())\n",
    "\n",
    "alle_afbeeldingen = torch.cat([image.unsqueeze(0) \n",
    "                               for image, _ in train_data], dim=0)\n",
    "\n",
    "print(f\"Gemiddelde: {alle_afbeeldingen.mean().item():.4f}, Standaardafwijking: {alle_afbeeldingen.std().item():.4f}\")"
   ]
  },
  {
   "cell_type": "code",
   "execution_count": 40,
   "metadata": {},
   "outputs": [
    {
     "name": "stdout",
     "output_type": "stream",
     "text": [
      "Afbeelding formaat: torch.Size([1, 28, 28])\n"
     ]
    },
    {
     "data": {
      "image/png": "[encoded data removed]",
      "text/plain": [
       "<Figure size 640x480 with 1 Axes>"
      ]
     },
     "metadata": {},
     "output_type": "display_data"
    }
   ],
   "source": [
    "image, label = train_data[7]\n",
    "print(f\"Afbeelding formaat: {image.shape}\")\n",
    "\n",
    "image = image.squeeze().numpy()\n",
    "\n",
    "plt.axis(\"off\")\n",
    "plt.title(f\"Nummer: {label}\")\n",
    "plt.imshow(image, cmap='gray')\n",
    "plt.show()"
   ]
  },
  {
   "cell_type": "markdown",
   "metadata": {},
   "source": [
    "#### Data transformeren"
   ]
  },
  {
   "cell_type": "code",
   "execution_count": 46,
   "metadata": {},
   "outputs": [],
   "source": [
    "transform = transforms.Compose([\n",
    "    transforms.Grayscale(num_output_channels=1),\n",
    "    transforms.Resize((28, 28)), #Juiste afmetingen invoeren \n",
    "    transforms.RandomRotation(10),  #Willekeurige rotaties tot 10 graden\n",
    "    transforms.RandomAffine(degrees=15, translate=(0.1, 0.1)), #Willekeurige onregelmatigheden \n",
    "    transforms.ToTensor(),\n",
    "    transforms.Normalize((0.1307,), (0.3081,)) #Normalisatie op basis van het gem en standaardafwijking\n",
    "])\n",
    "\n",
    "train_data = datasets.MNIST(root='./data', train=True, download=True, transform=transform)\n",
    "test_data = datasets.MNIST(root='./data', train=False, download=True, transform=transform)\n",
    "\n",
    "train_loader = DataLoader(train_data, batch_size=64, shuffle=True)\n",
    "test_loader = DataLoader(test_data, batch_size=64, shuffle=False)"
   ]
  },
  {
   "cell_type": "markdown",
   "metadata": {},
   "source": [
    "#### Architectuur van CNN bouwen"
   ]
  },
  {
   "cell_type": "code",
   "execution_count": 48,
   "metadata": {},
   "outputs": [],
   "source": [
    "model = nn.Sequential(\n",
    "    nn.Conv2d(1, 16, kernel_size=3, padding=1),\n",
    "    nn.ReLU(),\n",
    "    nn.MaxPool2d(kernel_size=2, stride=2),\n",
    "    \n",
    "    nn.Conv2d(16, 32, kernel_size=3, padding=1),\n",
    "    nn.ReLU(),\n",
    "    nn.MaxPool2d(kernel_size=2, stride=2),\n",
    "    \n",
    "    nn.Conv2d(32, 64, kernel_size=3, padding=1),\n",
    "    nn.ReLU(),\n",
    "    nn.MaxPool2d(kernel_size=2, stride=2),\n",
    "    \n",
    "    nn.Flatten(),\n",
    "    \n",
    "    nn.Linear(64 * 3 * 3, 128),\n",
    "    nn.ReLU(),\n",
    "    nn.Dropout(0.5),\n",
    "    \n",
    "    nn.Linear(128, 10)\n",
    ")"
   ]
  },
  {
   "cell_type": "markdown",
   "metadata": {},
   "source": [
    "#### Check voor GPU\n",
    "I.v.m. dat het model zwaar kan zijn, check ik eerst ff of het huidige apparaat een GPU heeft. Dit kan het trainen een stuk versneller namelijk."
   ]
  },
  {
   "cell_type": "code",
   "execution_count": 7,
   "metadata": {},
   "outputs": [
    {
     "name": "stdout",
     "output_type": "stream",
     "text": [
      "Model runt op cpu\n"
     ]
    }
   ],
   "source": [
    "component = torch.device(\"cuda\" if torch.cuda.is_available()\n",
    "                         else \"cpu\")\n",
    "model = model.to(component)\n",
    "print(f\"Model runt op {component}\")"
   ]
  },
  {
   "cell_type": "markdown",
   "metadata": {},
   "source": [
    "#### Model trainen"
   ]
  },
  {
   "cell_type": "code",
   "execution_count": 20,
   "metadata": {},
   "outputs": [],
   "source": [
    "optimalisator = optim.Adam(model.parameters(), lr=0.0001)\n",
    "criterium = nn.CrossEntropyLoss()"
   ]
  },
  {
   "cell_type": "code",
   "execution_count": 21,
   "metadata": {},
   "outputs": [
    {
     "name": "stdout",
     "output_type": "stream",
     "text": [
      "Epoch 1, Loss: 0.9984646260039385\n",
      "Epoch 2, Loss: 0.5630372339474367\n",
      "Epoch 3, Loss: 0.4773487985165897\n",
      "Epoch 4, Loss: 0.4307622679356319\n",
      "Epoch 5, Loss: 0.4058493053528673\n",
      "Epoch 6, Loss: 0.3818600037967218\n",
      "Epoch 7, Loss: 0.3624550426470191\n",
      "Epoch 8, Loss: 0.3549877362115297\n",
      "Epoch 9, Loss: 0.33803803833531165\n",
      "Epoch 10, Loss: 0.3285055808516454\n"
     ]
    }
   ],
   "source": [
    "epochs = 10\n",
    "for epoch in range(epochs):\n",
    "    model.train()\n",
    "    totale_loss = 0.0\n",
    "    for images, labels in train_loader:\n",
    "        images, labels = images.to(component), labels.to(component) #Runt het model op geschikte component\n",
    "        \n",
    "        optimalisator.zero_grad()\n",
    "        output = model(images)\n",
    "        loss = criterium(output, labels)\n",
    "        loss.backward()\n",
    "        optimalisator.step()\n",
    "        totale_loss += loss.item()\n",
    "    \n",
    "    print(f\"Epoch {epoch + 1}, Loss: {totale_loss / len(train_loader)}\")\n",
    "\n",
    "torch.save(model.state_dict(), \"Getrainde_modellen/CNN_Model_gewichten.pth\")"
   ]
  },
  {
   "cell_type": "markdown",
   "metadata": {},
   "source": [
    "#### Laad getrainde model indien nodig (voor apparaten zonder cuda bijvoorbeeld)"
   ]
  },
  {
   "cell_type": "code",
   "execution_count": 8,
   "metadata": {},
   "outputs": [
    {
     "data": {
      "text/plain": [
       "<All keys matched successfully>"
      ]
     },
     "execution_count": 8,
     "metadata": {},
     "output_type": "execute_result"
    }
   ],
   "source": [
    "model.load_state_dict(torch.load(\"Getrainde_modellen/CNN_Model_gewichten.pth\", \n",
    "                                 map_location=torch.device(component)))\n"
   ]
  },
  {
   "cell_type": "markdown",
   "metadata": {},
   "source": [
    "#### Evaluatie van model"
   ]
  },
  {
   "cell_type": "code",
   "execution_count": 9,
   "metadata": {},
   "outputs": [
    {
     "name": "stdout",
     "output_type": "stream",
     "text": [
      "Werkelijke labels: [1, 2, 3, 4, 5, 6, 7, 8, 9, 0, 1, 2, 3, 4, 5, 6]\n",
      "Voorspelde labels: [1, 2, 3, 4, 5, 6, 7, 8, 9, 0, 1, 2, 3, 4, 5, 6]\n",
      "Accuratie na training: 90.15%\n"
     ]
    }
   ],
   "source": [
    "model.eval()\n",
    "with torch.no_grad():\n",
    "    correct_voorspeld = 0\n",
    "    totaal_voorspeld = 0\n",
    "    for images, labels in test_loader:\n",
    "        images, labels = images.to(component), labels.to(component)\n",
    "        test_output = model(images)\n",
    "        _, predicted = torch.max(test_output, 1)\n",
    "        correct_voorspeld += (predicted == labels).sum().item()\n",
    "        totaal_voorspeld += labels.size(0)\n",
    "\n",
    "accuratie = correct_voorspeld / totaal_voorspeld * 100\n",
    "\n",
    "print(\"Werkelijke labels:\", labels[:16].tolist())  \n",
    "print(\"Voorspelde labels:\", predicted[:16].tolist()) \n",
    "print(f\"Accuratie na training: {accuratie:.2f}%\")"
   ]
  },
  {
   "cell_type": "markdown",
   "metadata": {},
   "source": [
    "#### Nieuwe data inladen en inspecteren"
   ]
  },
  {
   "cell_type": "code",
   "execution_count": 53,
   "metadata": {},
   "outputs": [
    {
     "data": {
      "text/plain": [
       "Text(0.5, 1.0, 'Nummer 5')"
      ]
     },
     "execution_count": 53,
     "metadata": {},
     "output_type": "execute_result"
    },
    {
     "data": {
      "image/png": "[encoded data removed]",
      "text/plain": [
       "<Figure size 1500x500 with 3 Axes>"
      ]
     },
     "metadata": {},
     "output_type": "display_data"
    }
   ],
   "source": [
    "Nummer1 = Image.open(\"Afbeeldingen/Nummer1.jpg\").convert(\"L\")\n",
    "Nummer3 = Image.open(\"Afbeeldingen/Nummer3.jpg\").convert(\"L\")\n",
    "Nummer5 = Image.open(\"Afbeeldingen/Nummer5.jpg\").convert(\"L\")\n",
    "\n",
    "transform = transforms.Compose([\n",
    "    transforms.Resize((28, 28)),\n",
    "    transforms.Grayscale(num_output_channels=1),\n",
    "    transforms.GaussianBlur(3, sigma=(1.5, 1.5)),\n",
    "    transforms.RandomInvert(p=1)\n",
    "])\n",
    "Nummer1 = transform(Nummer1)\n",
    "Nummer3 = transform(Nummer3)\n",
    "Nummer5 = transform(Nummer5)\n",
    "\n",
    "fig, axs = plt.subplots(1, 3, figsize=(15,5))\n",
    "\n",
    "axs[0].imshow(Nummer1, cmap=\"gray\")\n",
    "axs[0].axis('off')\n",
    "axs[0].set_title('Nummer 1')\n",
    "\n",
    "axs[1].imshow(Nummer3, cmap=\"gray\")\n",
    "axs[1].axis('off')\n",
    "axs[1].set_title('Nummer 3')\n",
    "\n",
    "axs[2].imshow(Nummer5, cmap=\"gray\")\n",
    "axs[2].axis('off')\n",
    "axs[2].set_title('Nummer 5')"
   ]
  },
  {
   "cell_type": "markdown",
   "metadata": {},
   "source": [
    "#### Nieuwe data verwerken "
   ]
  },
  {
   "cell_type": "code",
   "execution_count": 42,
   "metadata": {},
   "outputs": [],
   "source": [
    "transform = transforms.Compose([\n",
    "    transforms.ToTensor(),\n",
    "    transforms.Normalize((0.1307,), (0.3081))\n",
    "])\n",
    "\n",
    "def afbeelding_verwerken(afbeelding):\n",
    "    afbeelding = transform(afbeelding)\n",
    "    afbeelding = afbeelding.unsqueeze(0)\n",
    "    afbeelding = afbeelding.to(component)\n",
    "    return afbeelding\n",
    "    \n",
    "Nummer1 = afbeelding_verwerken(Nummer1)\n",
    "Nummer3 = afbeelding_verwerken(Nummer3)\n",
    "Nummer5 = afbeelding_verwerken(Nummer5)"
   ]
  },
  {
   "cell_type": "markdown",
   "metadata": {},
   "source": [
    "#### Nieuwe data introduceren in CNN"
   ]
  },
  {
   "cell_type": "code",
   "execution_count": 45,
   "metadata": {},
   "outputs": [
    {
     "name": "stdout",
     "output_type": "stream",
     "text": [
      "Het model denkt dat dit cijfer een 8 is met een zekerheidsgraad van 0.3148!\n",
      "tensor([[-0.8174,  0.2954, -0.1549,  1.0003, -2.6411,  0.5857, -0.1627, -0.9703,\n",
      "          1.3873, -1.3596]])\n"
     ]
    }
   ],
   "source": [
    "model.eval()\n",
    "with torch.no_grad():\n",
    "    test_output = model(Nummer5)\n",
    "    zekerheidsgraad = torch.softmax(test_output, dim=1)\n",
    "    voorspelling = torch.argmax(zekerheidsgraad, 1).item()\n",
    "    zekerheid = zekerheidsgraad[0][voorspelling].item()\n",
    "    \n",
    "    print(f\"Het model denkt dat dit cijfer een {voorspelling} is met een zekerheidsgraad van {zekerheid:.4f}!\")\n",
    "    print(test_output)"
   ]
  }
 ],
 "metadata": {
  "kernelspec": {
   "display_name": "Python 3",
   "language": "python",
   "name": "python3"
  },
  "language_info": {
   "codemirror_mode": {
    "name": "ipython",
    "version": 3
   },
   "file_extension": ".py",
   "mimetype": "text/x-python",
   "name": "python",
   "nbconvert_exporter": "python",
   "pygments_lexer": "ipython3",
   "version": "3.12.9"
  }
 },
 "nbformat": 4,
 "nbformat_minor": 2
}
