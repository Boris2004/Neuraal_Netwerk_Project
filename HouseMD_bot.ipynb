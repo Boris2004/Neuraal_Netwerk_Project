{
 "cells": [
  {
   "cell_type": "markdown",
   "metadata": {},
   "source": [
    "## Libraries importeren"
   ]
  },
  {
   "cell_type": "code",
   "execution_count": 36,
   "metadata": {},
   "outputs": [],
   "source": [
    "import pandas as pd\n",
    "import numpy as np\n",
    "from transformers import GPT2LMHeadModel, GPT2Tokenizer, TrainingArguments, Trainer\n",
    "from datasets import Dataset"
   ]
  },
  {
   "cell_type": "markdown",
   "metadata": {},
   "source": [
    "## Data pre-processen"
   ]
  },
  {
   "cell_type": "code",
   "execution_count": 37,
   "metadata": {},
   "outputs": [
    {
     "data": {
      "text/plain": [
       "0        [QUESTION] What is (are) Glaucoma ?[ANSWER] Gl...\n",
       "1        [QUESTION] What causes Glaucoma ?[ANSWER] Near...\n",
       "2        [QUESTION] What are the symptoms of Glaucoma ?...\n",
       "3        [QUESTION] What are the treatments for Glaucom...\n",
       "4        [QUESTION] What is (are) Glaucoma ?[ANSWER] Gl...\n",
       "                               ...                        \n",
       "16407    [QUESTION] What is (are) Diabetic Neuropathies...\n",
       "16408    [QUESTION] How to prevent Diabetic Neuropathie...\n",
       "16409    [QUESTION] How to diagnose Diabetic Neuropathi...\n",
       "16410    [QUESTION] What are the treatments for Diabeti...\n",
       "16411    [QUESTION] What to do for Diabetic Neuropathie...\n",
       "Name: text, Length: 16412, dtype: object"
      ]
     },
     "execution_count": 37,
     "metadata": {},
     "output_type": "execute_result"
    }
   ],
   "source": [
    "df = pd.read_csv(\"Data/medquad.csv\")\n",
    "df['text'] = '[QUESTION] ' + df['question'] + '[ANSWER] ' + df['answer'] \n",
    "df['text'] = df['text'].astype(str)\n",
    "df['text']"
   ]
  },
  {
   "cell_type": "markdown",
   "metadata": {},
   "source": [
    "#### Laad het model en de tokenizer"
   ]
  },
  {
   "cell_type": "code",
   "execution_count": 38,
   "metadata": {},
   "outputs": [],
   "source": [
    "model = GPT2LMHeadModel.from_pretrained(\"gpt2\")\n",
    "tokenizer = GPT2Tokenizer.from_pretrained(\"gpt2\")"
   ]
  },
  {
   "cell_type": "markdown",
   "metadata": {},
   "source": [
    "#### Data tokenizen en omzetten naar hugging face dataset"
   ]
  },
  {
   "cell_type": "code",
   "execution_count": 40,
   "metadata": {},
   "outputs": [
    {
     "name": "stderr",
     "output_type": "stream",
     "text": [
      "Map: 100%|██████████| 16412/16412 [00:35<00:00, 461.65 examples/s]\n"
     ]
    }
   ],
   "source": [
    "tokenizer.pad_token = tokenizer.eos_token\n",
    "def tokenize_data(data):\n",
    "    return tokenizer(list(data['text']), padding='max_length', truncation=True, max_length=512, return_tensors='pt')\n",
    "\n",
    "dataset = Dataset.from_pandas(df)\n",
    "tokenize_dataset = dataset.map(tokenize_data, batched=True)"
   ]
  }
 ],
 "metadata": {
  "kernelspec": {
   "display_name": "Python 3",
   "language": "python",
   "name": "python3"
  },
  "language_info": {
   "codemirror_mode": {
    "name": "ipython",
    "version": 3
   },
   "file_extension": ".py",
   "mimetype": "text/x-python",
   "name": "python",
   "nbconvert_exporter": "python",
   "pygments_lexer": "ipython3",
   "version": "3.12.9"
  }
 },
 "nbformat": 4,
 "nbformat_minor": 2
}
